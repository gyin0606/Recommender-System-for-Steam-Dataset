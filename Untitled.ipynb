{
 "cells": [
  {
   "cell_type": "code",
   "execution_count": 2,
   "metadata": {},
   "outputs": [],
   "source": [
    "import json\n",
    "\n",
    "path = open(\"ratings.csv\",\"w+\")\n",
    "path.write(\"UserID,itemID,Rating\\n\")\n",
    "k = 0\n",
    "with open(\"australian_users_items.json\") as f:\n",
    "    for i in f:\n",
    "        k += 1\n",
    "        i = eval(i.strip())\n",
    "        for j in i['items']:\n",
    "            if j[\"playtime_forever\"] >0:\n",
    "                path.write(str(i[\"user_id\"])+\",\"+str(j[\"item_id\"])+\",\"+str(j[\"playtime_forever\"])+\"\\n\")\n",
    "        if k>1000:\n",
    "            break\n",
    "path.close()"
   ]
  },
  {
   "cell_type": "code",
   "execution_count": 4,
   "metadata": {},
   "outputs": [
    {
     "data": {
      "text/html": [
       "<div>\n",
       "<style scoped>\n",
       "    .dataframe tbody tr th:only-of-type {\n",
       "        vertical-align: middle;\n",
       "    }\n",
       "\n",
       "    .dataframe tbody tr th {\n",
       "        vertical-align: top;\n",
       "    }\n",
       "\n",
       "    .dataframe thead th {\n",
       "        text-align: right;\n",
       "    }\n",
       "</style>\n",
       "<table border=\"1\" class=\"dataframe\">\n",
       "  <thead>\n",
       "    <tr style=\"text-align: right;\">\n",
       "      <th></th>\n",
       "      <th>UserID</th>\n",
       "      <th>itemID</th>\n",
       "      <th>Rating</th>\n",
       "    </tr>\n",
       "  </thead>\n",
       "  <tbody>\n",
       "    <tr>\n",
       "      <th>0</th>\n",
       "      <td>76561197970982479</td>\n",
       "      <td>10</td>\n",
       "      <td>6</td>\n",
       "    </tr>\n",
       "    <tr>\n",
       "      <th>1</th>\n",
       "      <td>76561197970982479</td>\n",
       "      <td>30</td>\n",
       "      <td>7</td>\n",
       "    </tr>\n",
       "    <tr>\n",
       "      <th>2</th>\n",
       "      <td>76561197970982479</td>\n",
       "      <td>300</td>\n",
       "      <td>4733</td>\n",
       "    </tr>\n",
       "    <tr>\n",
       "      <th>3</th>\n",
       "      <td>76561197970982479</td>\n",
       "      <td>240</td>\n",
       "      <td>1853</td>\n",
       "    </tr>\n",
       "    <tr>\n",
       "      <th>4</th>\n",
       "      <td>76561197970982479</td>\n",
       "      <td>3830</td>\n",
       "      <td>333</td>\n",
       "    </tr>\n",
       "  </tbody>\n",
       "</table>\n",
       "</div>"
      ],
      "text/plain": [
       "              UserID  itemID  Rating\n",
       "0  76561197970982479      10       6\n",
       "1  76561197970982479      30       7\n",
       "2  76561197970982479     300    4733\n",
       "3  76561197970982479     240    1853\n",
       "4  76561197970982479    3830     333"
      ]
     },
     "execution_count": 4,
     "metadata": {},
     "output_type": "execute_result"
    }
   ],
   "source": [
    "# 每个 游戏均分等级\n",
    "import pandas as pd\n",
    "data = pd.read_csv(\"ratings.csv\")\n",
    "data.head()"
   ]
  },
  {
   "cell_type": "code",
   "execution_count": 6,
   "metadata": {},
   "outputs": [
    {
     "data": {
      "text/plain": [
       "(60715, 4360)"
      ]
     },
     "execution_count": 6,
     "metadata": {},
     "output_type": "execute_result"
    }
   ],
   "source": [
    "len(data),len(set(data.itemID))"
   ]
  },
  {
   "cell_type": "code",
   "execution_count": 15,
   "metadata": {},
   "outputs": [
    {
     "data": {
      "text/html": [
       "<div>\n",
       "<style scoped>\n",
       "    .dataframe tbody tr th:only-of-type {\n",
       "        vertical-align: middle;\n",
       "    }\n",
       "\n",
       "    .dataframe tbody tr th {\n",
       "        vertical-align: top;\n",
       "    }\n",
       "\n",
       "    .dataframe thead th {\n",
       "        text-align: right;\n",
       "    }\n",
       "</style>\n",
       "<table border=\"1\" class=\"dataframe\">\n",
       "  <thead>\n",
       "    <tr style=\"text-align: right;\">\n",
       "      <th></th>\n",
       "      <th>UserID</th>\n",
       "      <th>itemID</th>\n",
       "      <th>Rating_x</th>\n",
       "      <th>Rating_y</th>\n",
       "    </tr>\n",
       "  </thead>\n",
       "  <tbody>\n",
       "    <tr>\n",
       "      <th>0</th>\n",
       "      <td>76561197970982479</td>\n",
       "      <td>10</td>\n",
       "      <td>6</td>\n",
       "      <td>205234</td>\n",
       "    </tr>\n",
       "    <tr>\n",
       "      <th>1</th>\n",
       "      <td>doctr</td>\n",
       "      <td>10</td>\n",
       "      <td>93</td>\n",
       "      <td>205234</td>\n",
       "    </tr>\n",
       "    <tr>\n",
       "      <th>2</th>\n",
       "      <td>corrupted_soul</td>\n",
       "      <td>10</td>\n",
       "      <td>108</td>\n",
       "      <td>205234</td>\n",
       "    </tr>\n",
       "    <tr>\n",
       "      <th>3</th>\n",
       "      <td>WeiEDKrSat</td>\n",
       "      <td>10</td>\n",
       "      <td>328</td>\n",
       "      <td>205234</td>\n",
       "    </tr>\n",
       "    <tr>\n",
       "      <th>4</th>\n",
       "      <td>death-hunter</td>\n",
       "      <td>10</td>\n",
       "      <td>6275</td>\n",
       "      <td>205234</td>\n",
       "    </tr>\n",
       "  </tbody>\n",
       "</table>\n",
       "</div>"
      ],
      "text/plain": [
       "              UserID  itemID  Rating_x  Rating_y\n",
       "0  76561197970982479      10         6    205234\n",
       "1              doctr      10        93    205234\n",
       "2     corrupted_soul      10       108    205234\n",
       "3         WeiEDKrSat      10       328    205234\n",
       "4       death-hunter      10      6275    205234"
      ]
     },
     "execution_count": 15,
     "metadata": {},
     "output_type": "execute_result"
    }
   ],
   "source": [
    "temp = data.groupby(\"itemID\")[\"Rating\"].agg(max)\n",
    "\n",
    "data = pd.merge(data,pd.DataFrame(temp).reset_index(level=[0]),on=\"itemID\")\n",
    "data.head()"
   ]
  },
  {
   "cell_type": "code",
   "execution_count": 19,
   "metadata": {},
   "outputs": [
    {
     "data": {
      "text/html": [
       "<div>\n",
       "<style scoped>\n",
       "    .dataframe tbody tr th:only-of-type {\n",
       "        vertical-align: middle;\n",
       "    }\n",
       "\n",
       "    .dataframe tbody tr th {\n",
       "        vertical-align: top;\n",
       "    }\n",
       "\n",
       "    .dataframe thead th {\n",
       "        text-align: right;\n",
       "    }\n",
       "</style>\n",
       "<table border=\"1\" class=\"dataframe\">\n",
       "  <thead>\n",
       "    <tr style=\"text-align: right;\">\n",
       "      <th></th>\n",
       "      <th>UserID</th>\n",
       "      <th>itemID</th>\n",
       "      <th>Rating_x</th>\n",
       "      <th>Rating_y</th>\n",
       "      <th>Rating</th>\n",
       "    </tr>\n",
       "  </thead>\n",
       "  <tbody>\n",
       "    <tr>\n",
       "      <th>0</th>\n",
       "      <td>76561197970982479</td>\n",
       "      <td>10</td>\n",
       "      <td>6</td>\n",
       "      <td>205234</td>\n",
       "      <td>(-0.00099751, 0.00567]</td>\n",
       "    </tr>\n",
       "    <tr>\n",
       "      <th>1</th>\n",
       "      <td>doctr</td>\n",
       "      <td>10</td>\n",
       "      <td>93</td>\n",
       "      <td>205234</td>\n",
       "      <td>(-0.00099751, 0.00567]</td>\n",
       "    </tr>\n",
       "    <tr>\n",
       "      <th>2</th>\n",
       "      <td>corrupted_soul</td>\n",
       "      <td>10</td>\n",
       "      <td>108</td>\n",
       "      <td>205234</td>\n",
       "      <td>(-0.00099751, 0.00567]</td>\n",
       "    </tr>\n",
       "    <tr>\n",
       "      <th>3</th>\n",
       "      <td>WeiEDKrSat</td>\n",
       "      <td>10</td>\n",
       "      <td>328</td>\n",
       "      <td>205234</td>\n",
       "      <td>(-0.00099751, 0.00567]</td>\n",
       "    </tr>\n",
       "    <tr>\n",
       "      <th>4</th>\n",
       "      <td>death-hunter</td>\n",
       "      <td>10</td>\n",
       "      <td>6275</td>\n",
       "      <td>205234</td>\n",
       "      <td>(0.0257, 0.0813]</td>\n",
       "    </tr>\n",
       "  </tbody>\n",
       "</table>\n",
       "</div>"
      ],
      "text/plain": [
       "              UserID  itemID  Rating_x  Rating_y                  Rating\n",
       "0  76561197970982479      10         6    205234  (-0.00099751, 0.00567]\n",
       "1              doctr      10        93    205234  (-0.00099751, 0.00567]\n",
       "2     corrupted_soul      10       108    205234  (-0.00099751, 0.00567]\n",
       "3         WeiEDKrSat      10       328    205234  (-0.00099751, 0.00567]\n",
       "4       death-hunter      10      6275    205234        (0.0257, 0.0813]"
      ]
     },
     "execution_count": 19,
     "metadata": {},
     "output_type": "execute_result"
    }
   ],
   "source": [
    "data[\"Rating\"] = pd.qcut(data.Rating_x/data.Rating_y,q=5)\n",
    "data.head()"
   ]
  },
  {
   "cell_type": "code",
   "execution_count": 22,
   "metadata": {},
   "outputs": [
    {
     "data": {
      "text/plain": [
       "{Interval(-0.00099751, 0.00567, closed='right'): 1,\n",
       " Interval(0.00567, 0.0257, closed='right'): 2,\n",
       " Interval(0.0257, 0.0813, closed='right'): 3,\n",
       " Interval(0.0813, 0.265, closed='right'): 4,\n",
       " Interval(0.265, 1.0, closed='right'): 5}"
      ]
     },
     "execution_count": 22,
     "metadata": {},
     "output_type": "execute_result"
    }
   ],
   "source": [
    "lable2id = {}\n",
    "for i in sorted(set(data.Rating)):\n",
    "    lable2id[i] = len(lable2id)+1\n",
    "lable2id"
   ]
  },
  {
   "cell_type": "code",
   "execution_count": 23,
   "metadata": {},
   "outputs": [],
   "source": [
    "data[\"Rating\"] = data[\"Rating\"].apply(lambda x:lable2id[x])"
   ]
  },
  {
   "cell_type": "code",
   "execution_count": 24,
   "metadata": {},
   "outputs": [],
   "source": [
    "data[[\"UserID\",\"itemID\",\"Rating\"]].to_csv(\"ratings1.csv\",index=False)"
   ]
  },
  {
   "cell_type": "code",
   "execution_count": null,
   "metadata": {},
   "outputs": [],
   "source": []
  }
 ],
 "metadata": {
  "kernelspec": {
   "display_name": "Python 3",
   "language": "python",
   "name": "python3"
  }
 },
 "nbformat": 4,
 "nbformat_minor": 2
}
